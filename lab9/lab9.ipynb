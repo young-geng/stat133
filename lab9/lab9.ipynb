{
 "cells": [
  {
   "cell_type": "markdown",
   "metadata": {},
   "source": [
    "### how many humans\n",
    "`egrep human stars.csv | wc -l`\n",
    "\n",
    "### how many jedis\n",
    "`tail -20 stars.csv | egrep [^_]jedi | wc -l`\n",
    "\n",
    "### names of jedis\n",
    "`tail -20 stars.csv | egrep [^_]jedi | cut -f 1 -d ','`\n",
    "\n",
    "### names of jedis in alphabetical order\n",
    "`tail -20 stars.csv | egrep [^_]jedi | cut -f 1 -d ',' | sort`\n",
    "\n",
    "### table of frequencies for weapons\n",
    "`tail -20 stars.csv | cut -f 13 -d ',' | uniq -c`\n",
    "\n",
    "### table of frequencies for weapons in decreasing order\n",
    "`tail -20 stars.csv | cut -f 13 -d ',' | uniq -c | sort -r`"
   ]
  }
 ],
 "metadata": {
  "kernelspec": {
   "display_name": "R",
   "language": "R",
   "name": "ir"
  },
  "language_info": {
   "codemirror_mode": "r",
   "file_extension": ".r",
   "mimetype": "text/x-r-source",
   "name": "R",
   "pygments_lexer": "r",
   "version": "3.2.2"
  }
 },
 "nbformat": 4,
 "nbformat_minor": 0
}
