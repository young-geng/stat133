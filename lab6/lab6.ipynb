{
 "cells": [
  {
   "cell_type": "markdown",
   "metadata": {},
   "source": [
    "# Lab 6\n",
    "Xinyang Geng"
   ]
  },
  {
   "cell_type": "code",
   "execution_count": 2,
   "metadata": {
    "attributes": {
     "classes": [],
     "id": "",
     "include": "FALSE"
    },
    "collapsed": false
   },
   "outputs": [],
   "source": [
    "library(DataComputing)"
   ]
  },
  {
   "cell_type": "markdown",
   "metadata": {},
   "source": [
    "<!-- Don't edit the material above this line -->\n",
    "\n",
    "\n",
    "### Conditional Expressions\n",
    "\n",
    "If-else statements are perhaps the simplest type of control flow structure:"
   ]
  },
  {
   "cell_type": "code",
   "execution_count": 4,
   "metadata": {
    "collapsed": false
   },
   "outputs": [
    {
     "name": "stdout",
     "output_type": "stream",
     "text": [
      "[1] \"positive\"\n"
     ]
    }
   ],
   "source": [
    "x <- 1 # Change this value to check if your code works\n",
    "if (x > 0) {\n",
    "    print(\"positive\")\n",
    "} else {\n",
    "    print(\"not positive\")\n",
    "}"
   ]
  },
  {
   "cell_type": "markdown",
   "metadata": {},
   "source": [
    "Of course, the else is not necessary (if you don't want anything to occur otherwise), or you can chain multiple if-else statements:"
   ]
  },
  {
   "cell_type": "code",
   "execution_count": 11,
   "metadata": {
    "collapsed": false
   },
   "outputs": [
    {
     "name": "stdout",
     "output_type": "stream",
     "text": [
      "[1] \"zero?\"\n"
     ]
    }
   ],
   "source": [
    "y = 0 # Change this value to check if your code works\n",
    "if (y > 0) {\n",
    "    print(\"positive\")\n",
    "} else if (y < 0) {\n",
    "    print(\"negative\")\n",
    "} else {\n",
    "    print(\"zero?\")\n",
    "}"
   ]
  },
  {
   "cell_type": "markdown",
   "metadata": {},
   "source": [
    "__Your turn!__\n",
    "Write R code that will \"squish\" a number into the interval [0, 100], so that a number less than 0 is replaced by 0 and a number greater than 100 is replaced by 100."
   ]
  },
  {
   "cell_type": "code",
   "execution_count": 16,
   "metadata": {
    "attributes": {
     "": "",
     "classes": [],
     "id": ""
    },
    "collapsed": false
   },
   "outputs": [
    {
     "name": "stdout",
     "output_type": "stream",
     "text": [
      "[1] 33\n"
     ]
    }
   ],
   "source": [
    "z = 33\n",
    "# Fill in the following if-else statements. You may (or may not) have to add or subtract else if or else statements.\n",
    "if (TRUE) { # Replace TRUE with a condition.\n",
    "    z = z %>% min(100) %>% max(0)\n",
    "}\n",
    "print(z)"
   ]
  },
  {
   "cell_type": "markdown",
   "metadata": {},
   "source": [
    "## Loops\n",
    "\n",
    "Loops are used when you want to perform a given task many times.\n",
    "\n",
    "The simplest type of loop in R is the repeat loop, which will repeatedly evaluate a set of expressions until it is told to stop."
   ]
  },
  {
   "cell_type": "code",
   "execution_count": 17,
   "metadata": {
    "collapsed": false
   },
   "outputs": [
    {
     "name": "stdout",
     "output_type": "stream",
     "text": [
      "[1] 898128000\n",
      "[1] 449064000\n",
      "[1] 224532000\n",
      "[1] 112266000\n",
      "[1] 56133000\n",
      "[1] 28066500\n",
      "[1] 14033250\n",
      "[1] 7016625\n"
     ]
    }
   ],
   "source": [
    "# Divide a number by 2 until it becomes odd.\n",
    "val_rep <- 898128000 # Change this value!\n",
    "repeat {\n",
    "  print(val_rep)\n",
    "  if (val_rep %% 2 == 1) { # If val_rep is odd,\n",
    "    break                  # end the loop.\n",
    "  }\n",
    "  val_rep <- val_rep / 2 # Divide val_rep by 2 since val_rep was even.\n",
    "  # When the end of the loop is reached, return to the beginning of the loop.\n",
    "}"
   ]
  },
  {
   "cell_type": "markdown",
   "metadata": {},
   "source": [
    "Often you will want to perform a loop until some condition is satisfied, or as long as a condition as satisfied. In that case, a while loop may be more appropriate."
   ]
  },
  {
   "cell_type": "code",
   "execution_count": 18,
   "metadata": {
    "collapsed": false
   },
   "outputs": [
    {
     "name": "stdout",
     "output_type": "stream",
     "text": [
      "[1] 898128000\n",
      "[1] 449064000\n",
      "[1] 224532000\n",
      "[1] 112266000\n",
      "[1] 56133000\n",
      "[1] 28066500\n",
      "[1] 14033250\n",
      "[1] 7016625\n"
     ]
    }
   ],
   "source": [
    "val_while <- 898128000 # Change this value!\n",
    "while (val_while %% 2 == 0) { # Continue the loop as long as val_while is even.\n",
    "  print(val_while)\n",
    "  val_while <- val_while / 2\n",
    "}\n",
    "print(val_while)"
   ]
  },
  {
   "cell_type": "markdown",
   "metadata": {},
   "source": [
    "Notice that the while loop code is more compact (ignoring the print statements), since the stopping condition has been encoded in the loop itself.\n",
    "\n",
    "__Your turn!__\n",
    "Write R code which multiplies a positive number by 3 and adds 1 until the result is greater than 10000. For example, 2015 $\\to$ 6046 $\\to$ 18139. Write both a repeat loop and a while loop."
   ]
  },
  {
   "cell_type": "code",
   "execution_count": 22,
   "metadata": {
    "attributes": {
     "": "",
     "classes": [],
     "id": ""
    },
    "collapsed": false
   },
   "outputs": [
    {
     "name": "stdout",
     "output_type": "stream",
     "text": [
      "[1] 314\n",
      "[1] 943\n",
      "[1] 2830\n",
      "[1] 8491\n",
      "[1] 25474\n"
     ]
    }
   ],
   "source": [
    "n_rep <- 314 # Play with this value! Does your code behave as expected?\n",
    "repeat {\n",
    "    if (n_rep > 10000) break\n",
    "    n_rep = n_rep * 3 + 1\n",
    "    print(n_rep)\n",
    "}"
   ]
  },
  {
   "cell_type": "code",
   "execution_count": 28,
   "metadata": {
    "attributes": {
     "": "",
     "classes": [],
     "id": ""
    },
    "collapsed": false
   },
   "outputs": [
    {
     "name": "stdout",
     "output_type": "stream",
     "text": [
      "[1] 943\n",
      "[1] 2830\n",
      "[1] 8491\n",
      "[1] 25474\n"
     ]
    }
   ],
   "source": [
    "n_while <- 314 # Play with this value! Does your code behave as expected?\n",
    "while (n_while <= 10000) { # Replace FALSE with your stopping condition.\n",
    "    n_while = n_while * 3 + 1\n",
    "    print(n_while)\n",
    "}"
   ]
  },
  {
   "cell_type": "markdown",
   "metadata": {},
   "source": [
    "Sometimes instead of performing an action until a condition is satisfied, you just want to perform it a specified number of times. In these cases, a for loop is appropriate."
   ]
  },
  {
   "cell_type": "code",
   "execution_count": 29,
   "metadata": {
    "collapsed": false
   },
   "outputs": [
    {
     "name": "stdout",
     "output_type": "stream",
     "text": [
      "[1] \"Hello world!\"\n",
      "[1] \"Hello world!\"\n",
      "[1] \"Hello world!\"\n",
      "[1] \"Hello world!\"\n",
      "[1] \"Hello world!\"\n",
      "[1] \"Hello world!\"\n",
      "[1] \"Hello world!\"\n",
      "[1] \"Hello world!\"\n",
      "[1] \"Hello world!\"\n",
      "[1] \"Hello world!\"\n"
     ]
    }
   ],
   "source": [
    "for (i in 1:10) { # Repeat 10 times.\n",
    "    print(\"Hello world!\")\n",
    "}"
   ]
  },
  {
   "cell_type": "code",
   "execution_count": 30,
   "metadata": {
    "collapsed": false
   },
   "outputs": [
    {
     "name": "stdout",
     "output_type": "stream",
     "text": [
      "[1] 2\n",
      "[1] 3\n",
      "[1] 4\n",
      "[1] 5\n",
      "[1] 6\n",
      "[1] 7\n",
      "[1] 8\n",
      "[1] 9\n",
      "[1] 10\n",
      "[1] 11\n"
     ]
    }
   ],
   "source": [
    "for (i in 1:10) { # Repeat 10 times.\n",
    "    print(i+1)\n",
    "}"
   ]
  },
  {
   "cell_type": "markdown",
   "metadata": {},
   "source": [
    "__Your turn again!__\n",
    "Write a for loop to add 1 to every element of a vector in place. In other words, at the end of the operation `vec` should change from (3, 1, 4) to (4, 2, 5)."
   ]
  },
  {
   "cell_type": "code",
   "execution_count": 34,
   "metadata": {
    "collapsed": false
   },
   "outputs": [
    {
     "data": {
      "text/html": [
       "<ol class=list-inline>\n",
       "\t<li>4</li>\n",
       "\t<li>2</li>\n",
       "\t<li>5</li>\n",
       "</ol>\n"
      ],
      "text/latex": [
       "\\begin{enumerate*}\n",
       "\\item 4\n",
       "\\item 2\n",
       "\\item 5\n",
       "\\end{enumerate*}\n"
      ],
      "text/markdown": [
       "1. 4\n",
       "2. 2\n",
       "3. 5\n",
       "\n",
       "\n"
      ],
      "text/plain": [
       "[1] 4 2 5"
      ]
     },
     "execution_count": 34,
     "metadata": {},
     "output_type": "execute_result"
    }
   ],
   "source": [
    "vec <- c(3, 1, 4) # Change this value!\n",
    "for (j in 1:length(vec)) { # Replace c() with an appropriate sequence.\n",
    "    vec[j] = vec[j] + 1\n",
    "}\n",
    "vec"
   ]
  },
  {
   "cell_type": "markdown",
   "metadata": {},
   "source": [
    "## Writing Functions\n",
    "\n",
    "\n",
    "\n",
    "### Basic Functions, with Control Flow Structures\n",
    "\n",
    "Often you will find that it is easier to begin writing code for a specific task, with specific variables, before generalizing the code into a function. In the example above, we saw the following code, which divides a positive integer by 2 until it becomes odd."
   ]
  },
  {
   "cell_type": "code",
   "execution_count": 35,
   "metadata": {
    "collapsed": false
   },
   "outputs": [
    {
     "name": "stdout",
     "output_type": "stream",
     "text": [
      "[1] 898128000\n",
      "[1] 449064000\n",
      "[1] 224532000\n",
      "[1] 112266000\n",
      "[1] 56133000\n",
      "[1] 28066500\n",
      "[1] 14033250\n",
      "[1] 7016625\n"
     ]
    }
   ],
   "source": [
    "x <- 898128000 # Example value\n",
    "while (x %% 2 == 0) {\n",
    "  print(x)\n",
    "  x <- x / 2\n",
    "}\n",
    "print(x)"
   ]
  },
  {
   "cell_type": "markdown",
   "metadata": {},
   "source": [
    "__Your turn!__\n",
    "Now generalize the above code to create a function which performs the same operation without printing the intermediate steps. (You should change very little.)"
   ]
  },
  {
   "cell_type": "code",
   "execution_count": 37,
   "metadata": {
    "attributes": {
     "": "",
     "classes": [],
     "id": ""
    },
    "collapsed": false
   },
   "outputs": [
    {
     "data": {
      "text/html": [
       "7016625"
      ],
      "text/latex": [
       "7016625"
      ],
      "text/markdown": [
       "7016625"
      ],
      "text/plain": [
       "[1] 7016625"
      ]
     },
     "execution_count": 37,
     "metadata": {},
     "output_type": "execute_result"
    }
   ],
   "source": [
    "reduce <- function(x) {\n",
    "    while (x %% 2 == 0) {\n",
    "        x <- x / 2\n",
    "    }\n",
    "    return(x)\n",
    "}\n",
    "reduce(898128000)"
   ]
  },
  {
   "cell_type": "markdown",
   "metadata": {},
   "source": [
    "How about something a little bit more complicated? Write a function ```f``` which, given a positive integer ```n```, returns ```n / 2``` if ```n``` was even or ```3 * n + 1``` if ```n``` was odd."
   ]
  },
  {
   "cell_type": "code",
   "execution_count": 38,
   "metadata": {
    "attributes": {
     "": "",
     "classes": [],
     "id": ""
    },
    "collapsed": false
   },
   "outputs": [
    {
     "data": {
      "text/html": [
       "3"
      ],
      "text/latex": [
       "3"
      ],
      "text/markdown": [
       "3"
      ],
      "text/plain": [
       "[1] 3"
      ]
     },
     "execution_count": 38,
     "metadata": {},
     "output_type": "execute_result"
    },
    {
     "data": {
      "text/html": [
       "58"
      ],
      "text/latex": [
       "58"
      ],
      "text/markdown": [
       "58"
      ],
      "text/plain": [
       "[1] 58"
      ]
     },
     "execution_count": 38,
     "metadata": {},
     "output_type": "execute_result"
    },
    {
     "data": {
      "text/html": [
       "82"
      ],
      "text/latex": [
       "82"
      ],
      "text/markdown": [
       "82"
      ],
      "text/plain": [
       "[1] 82"
      ]
     },
     "execution_count": 38,
     "metadata": {},
     "output_type": "execute_result"
    }
   ],
   "source": [
    "f <- function(n) {\n",
    "    ifelse(n %% 2 == 0, n / 2, 3 * n + 1)\n",
    "}\n",
    "\n",
    "f(6)        # Should return 3\n",
    "f(19)       # Should return 58\n",
    "f(27)       # Should return 82"
   ]
  },
  {
   "cell_type": "markdown",
   "metadata": {},
   "source": [
    "Now create function ```g``` which applies ```f()``` to a positive integer ```n``` until it becomes 1, and returns the number of iterations until this occurs."
   ]
  },
  {
   "cell_type": "code",
   "execution_count": 42,
   "metadata": {
    "attributes": {
     "": "",
     "classes": [],
     "id": ""
    },
    "collapsed": false
   },
   "outputs": [
    {
     "data": {
      "text/html": [
       "8"
      ],
      "text/latex": [
       "8"
      ],
      "text/markdown": [
       "8"
      ],
      "text/plain": [
       "[1] 8"
      ]
     },
     "execution_count": 42,
     "metadata": {},
     "output_type": "execute_result"
    },
    {
     "data": {
      "text/html": [
       "20"
      ],
      "text/latex": [
       "20"
      ],
      "text/markdown": [
       "20"
      ],
      "text/plain": [
       "[1] 20"
      ]
     },
     "execution_count": 42,
     "metadata": {},
     "output_type": "execute_result"
    },
    {
     "data": {
      "text/html": [
       "111"
      ],
      "text/latex": [
       "111"
      ],
      "text/markdown": [
       "111"
      ],
      "text/plain": [
       "[1] 111"
      ]
     },
     "execution_count": 42,
     "metadata": {},
     "output_type": "execute_result"
    }
   ],
   "source": [
    "g <- function(n) {\n",
    "    ifelse(n == 1, 0, g(f(n)) + 1)\n",
    "}\n",
    "\n",
    "g(6)        # Should return 8\n",
    "g(19)       # Should return 20\n",
    "g(27)       # Should return 111"
   ]
  },
  {
   "cell_type": "markdown",
   "metadata": {},
   "source": [
    "If you didn't earlier, try also writing the same function, but now create ```f()``` as a nested function.  If you did, write the same function but without ```f()``` as a nested function."
   ]
  },
  {
   "cell_type": "code",
   "execution_count": 43,
   "metadata": {
    "attributes": {
     "": "",
     "classes": [],
     "id": ""
    },
    "collapsed": false
   },
   "outputs": [
    {
     "data": {
      "text/html": [
       "8"
      ],
      "text/latex": [
       "8"
      ],
      "text/markdown": [
       "8"
      ],
      "text/plain": [
       "[1] 8"
      ]
     },
     "execution_count": 43,
     "metadata": {},
     "output_type": "execute_result"
    },
    {
     "data": {
      "text/html": [
       "20"
      ],
      "text/latex": [
       "20"
      ],
      "text/markdown": [
       "20"
      ],
      "text/plain": [
       "[1] 20"
      ]
     },
     "execution_count": 43,
     "metadata": {},
     "output_type": "execute_result"
    },
    {
     "data": {
      "text/html": [
       "111"
      ],
      "text/latex": [
       "111"
      ],
      "text/markdown": [
       "111"
      ],
      "text/plain": [
       "[1] 111"
      ]
     },
     "execution_count": 43,
     "metadata": {},
     "output_type": "execute_result"
    }
   ],
   "source": [
    "h <- function(n) {\n",
    "    f <- function(n) {\n",
    "        ifelse(n %% 2 == 0, n / 2, 3 * n + 1)\n",
    "    }\n",
    "    ifelse(n == 1, 0, g(f(n)) + 1)\n",
    "}\n",
    "\n",
    "h(6)        # Should return 8\n",
    "h(19)       # Should return 20\n",
    "h(27)       # Should return 111"
   ]
  },
  {
   "cell_type": "markdown",
   "metadata": {},
   "source": [
    "### Default Arguments\n",
    "\n",
    "As you probably know by now, many functions come with default arguments, which can be left unspecified without affecting the execution of the function.\n",
    "\n",
    "The following function attempts to compute the length of the hypotenuse of a right triangle, but will accept one or two leg lengths."
   ]
  },
  {
   "cell_type": "code",
   "execution_count": 45,
   "metadata": {
    "collapsed": false
   },
   "outputs": [
    {
     "data": {
      "text/html": [
       "5"
      ],
      "text/latex": [
       "5"
      ],
      "text/markdown": [
       "5"
      ],
      "text/plain": [
       "[1] 5"
      ]
     },
     "execution_count": 45,
     "metadata": {},
     "output_type": "execute_result"
    },
    {
     "data": {
      "text/html": [
       "7.07106781186548"
      ],
      "text/latex": [
       "7.07106781186548"
      ],
      "text/markdown": [
       "7.07106781186548"
      ],
      "text/plain": [
       "[1] 7.071068"
      ]
     },
     "execution_count": 45,
     "metadata": {},
     "output_type": "execute_result"
    }
   ],
   "source": [
    "pythagoras <- function(a, b=a) {\n",
    "    return(sqrt(a^2 + b^2))\n",
    "}\n",
    "\n",
    "pythagoras(3, 4)\n",
    "pythagoras(5)"
   ]
  },
  {
   "cell_type": "markdown",
   "metadata": {},
   "source": [
    "__Your turn!__\n",
    "Write a function which adds together the elements of a vector raised to a certain power. Use a loop instead of vectorized operations. Include two arguments: ```vec``` and ```pow```. Give ```pow``` a default value of 2."
   ]
  },
  {
   "cell_type": "code",
   "execution_count": 47,
   "metadata": {
    "attributes": {
     "": "",
     "classes": [],
     "id": ""
    },
    "collapsed": false
   },
   "outputs": [
    {
     "data": {
      "text/html": [
       "55"
      ],
      "text/latex": [
       "55"
      ],
      "text/markdown": [
       "55"
      ],
      "text/plain": [
       "[1] 55"
      ]
     },
     "execution_count": 47,
     "metadata": {},
     "output_type": "execute_result"
    },
    {
     "data": {
      "text/html": [
       "979"
      ],
      "text/latex": [
       "979"
      ],
      "text/markdown": [
       "979"
      ],
      "text/plain": [
       "[1] 979"
      ]
     },
     "execution_count": 47,
     "metadata": {},
     "output_type": "execute_result"
    }
   ],
   "source": [
    "# Remove eval = FALSE or set eval = TRUE when you have completed this function.\n",
    "powersum <- function(vec, pow=2) { # Fill in arguments.\n",
    "    s = 0\n",
    "    for (i in vec) {\n",
    "        s = s + i ^ pow\n",
    "    }\n",
    "    s\n",
    "}\n",
    "\n",
    "powersum(1:5)       # Should return 55.\n",
    "powersum(1:5, 4)    # Should return 979."
   ]
  },
  {
   "cell_type": "markdown",
   "metadata": {},
   "source": [
    "### Extra:\n",
    "\n",
    "If you have time you can get started on your first homework problem:\n",
    "\n",
    "Write a function that takes a number year and returns a logical value which is either `TRUE`, if the year was or will be a leap year, or `FALSE` if not. The rule for determining leap years is that one of the following conditions must hold:\n",
    "\n",
    "1. the year is divisible by 4 but not divisible by 100, or \n",
    "\n",
    "2. the year is divisible by 400.\n",
    "\n",
    "Now write an R expression using your function to calculate how many leap years you have lived through during your lifetime."
   ]
  }
 ],
 "metadata": {
  "kernelspec": {
   "display_name": "R",
   "language": "R",
   "name": "ir"
  },
  "language_info": {
   "codemirror_mode": "r",
   "file_extension": ".r",
   "mimetype": "text/x-r-source",
   "name": "R",
   "pygments_lexer": "r",
   "version": "3.2.2"
  }
 },
 "nbformat": 4,
 "nbformat_minor": 0
}
