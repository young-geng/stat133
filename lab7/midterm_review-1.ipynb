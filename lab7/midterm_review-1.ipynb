{
 "cells": [
  {
   "cell_type": "markdown",
   "metadata": {},
   "source": [
    "# Lab 7"
   ]
  },
  {
   "cell_type": "code",
   "execution_count": 2,
   "metadata": {
    "attributes": {
     "classes": [],
     "echo": "FALSE,",
     "id": "",
     "include": "FALSE"
    },
    "collapsed": false
   },
   "outputs": [],
   "source": [
    "library(DataComputing)\n",
    "library(magrittr)\n",
    "library(ggplot2)\n",
    "library(dplyr)"
   ]
  },
  {
   "cell_type": "markdown",
   "metadata": {},
   "source": [
    "## Question 1"
   ]
  },
  {
   "cell_type": "code",
   "execution_count": 4,
   "metadata": {
    "collapsed": false
   },
   "outputs": [
    {
     "data": {
      "text/html": [
       "<table>\n",
       "<thead><tr><th></th><th scope=col>Ozone</th><th scope=col>Solar.R</th><th scope=col>Wind</th><th scope=col>Temp</th><th scope=col>Month</th><th scope=col>Day</th></tr></thead>\n",
       "<tbody>\n",
       "\t<tr><th scope=row>1</th><td>41</td><td>190</td><td>7.4</td><td>67</td><td>5</td><td>1</td></tr>\n",
       "\t<tr><th scope=row>2</th><td>36</td><td>118</td><td>8</td><td>72</td><td>5</td><td>2</td></tr>\n",
       "\t<tr><th scope=row>3</th><td>12</td><td>149</td><td>12.6</td><td>74</td><td>5</td><td>3</td></tr>\n",
       "\t<tr><th scope=row>4</th><td>18</td><td>313</td><td>11.5</td><td>62</td><td>5</td><td>4</td></tr>\n",
       "\t<tr><th scope=row>5</th><td>NA</td><td>NA</td><td>14.3</td><td>56</td><td>5</td><td>5</td></tr>\n",
       "\t<tr><th scope=row>6</th><td>28</td><td>NA</td><td>14.9</td><td>66</td><td>5</td><td>6</td></tr>\n",
       "</tbody>\n",
       "</table>\n"
      ],
      "text/latex": [
       "\\begin{tabular}{r|llllll}\n",
       "  & Ozone & Solar.R & Wind & Temp & Month & Day\\\\\n",
       "\\hline\n",
       "\t1 & 41 & 190 & 7.4 & 67 & 5 & 1\\\\\n",
       "\t2 & 36 & 118 & 8 & 72 & 5 & 2\\\\\n",
       "\t3 & 12 & 149 & 12.6 & 74 & 5 & 3\\\\\n",
       "\t4 & 18 & 313 & 11.5 & 62 & 5 & 4\\\\\n",
       "\t5 & NA & NA & 14.3 & 56 & 5 & 5\\\\\n",
       "\t6 & 28 & NA & 14.9 & 66 & 5 & 6\\\\\n",
       "\\end{tabular}\n"
      ],
      "text/plain": [
       "  Ozone Solar.R Wind Temp Month Day\n",
       "1    41     190  7.4   67     5   1\n",
       "2    36     118  8.0   72     5   2\n",
       "3    12     149 12.6   74     5   3\n",
       "4    18     313 11.5   62     5   4\n",
       "5    NA      NA 14.3   56     5   5\n",
       "6    28      NA 14.9   66     5   6"
      ]
     },
     "execution_count": 4,
     "metadata": {},
     "output_type": "execute_result"
    }
   ],
   "source": [
    "# built-in dataset in R\n",
    "head(airquality)"
   ]
  },
  {
   "cell_type": "markdown",
   "metadata": {},
   "source": [
    "Change data from wide to narrow format (above) using gather function. \n",
    "Group Ozone, Solar.R, Wind, Temp into one variable called `type` and create another column called `value` to store their values. Your output should look like this:"
   ]
  },
  {
   "cell_type": "markdown",
   "metadata": {},
   "source": [
    "## Question 2\n",
    "Suppose you have a data frame, `data`, as given below:"
   ]
  },
  {
   "cell_type": "code",
   "execution_count": null,
   "metadata": {
    "attributes": {
     "": "",
     "classes": [],
     "id": ""
    },
    "collapsed": true
   },
   "outputs": [],
   "source": [
    "# Data frame for questions\n",
    "data <- data.frame(V1 = rep(c(\"a\",\"b\",\"c\"), each = 2),\n",
    "                   V2 = rep(c(1:2), times = 3),\n",
    "                   V3 = rep(c(\"alpha\", \"beta\", \"gamma\")),\n",
    "                   V4 = seq(10, 60, by = 10))\n",
    "print(data)"
   ]
  },
  {
   "cell_type": "markdown",
   "metadata": {},
   "source": [
    "Assuming that the `tidyr` and `dplyr` libraries are already loaded, write down what the output for the following code.  The final result is enough for full credit, but partial credit will be given for writing out and labelling intermediate steps."
   ]
  },
  {
   "cell_type": "code",
   "execution_count": null,
   "metadata": {
    "attributes": {
     "": "",
     "classes": [],
     "id": ""
    },
    "collapsed": true
   },
   "outputs": [],
   "source": [
    "data %>%\n",
    "  filter(V1 == \"a\") %>% # Step 1\n",
    "  select(V2, V4) %>% # Step 2\n",
    "  gather(key = Apple, value = Banana, V2, V4) %>% # Step 3\n",
    "  mutate(Apple = Banana) # Step 4"
   ]
  },
  {
   "cell_type": "markdown",
   "metadata": {},
   "source": [
    "#Question 3\n",
    "Suppose you have a data frame, `data`, as given below.\n",
    "\n",
    "a) Write a function called `fix_missing_99` that takes one argument: `x`, a numeric vector.  The function should replace every component of `x` equal to -99 with `NA`.\n",
    "b) Write a loop that replaces every -99 in `data` with `NA`.  For full credit, your code must use the function in part (a) and it should continue to work without modification if additional columns are added to the data frame.\n",
    "c) Write down an appropriate call from the `apply` family of functionals to perform the same task as in part (b)."
   ]
  },
  {
   "cell_type": "code",
   "execution_count": null,
   "metadata": {
    "attributes": {
     "": "",
     "classes": [],
     "id": ""
    },
    "collapsed": true
   },
   "outputs": [],
   "source": [
    "set.seed(1014)\n",
    "data <- data.frame(replicate(6, sample(c(1:10, -99), 6, rep = TRUE)))\n",
    "names(data) <- letters[1:6]\n",
    "data"
   ]
  },
  {
   "cell_type": "markdown",
   "metadata": {},
   "source": [
    "#Question 4\n",
    "\n",
    "Assuming the 'ggplot2' is already loaded. \n",
    "The first 6 rows of the 'diamond' dataset are:"
   ]
  },
  {
   "cell_type": "code",
   "execution_count": null,
   "metadata": {
    "attributes": {
     "": "",
     "classes": [],
     "id": ""
    },
    "collapsed": true
   },
   "outputs": [],
   "source": [
    "head(diamonds)"
   ]
  },
  {
   "cell_type": "markdown",
   "metadata": {},
   "source": [
    "What command in 'ggplot' that you will use to generate the graph given below?"
   ]
  }
 ],
 "metadata": {
  "kernelspec": {
   "display_name": "R",
   "language": "R",
   "name": "ir"
  },
  "language_info": {
   "codemirror_mode": "r",
   "file_extension": ".r",
   "mimetype": "text/x-r-source",
   "name": "R",
   "pygments_lexer": "r",
   "version": "3.2.2"
  }
 },
 "nbformat": 4,
 "nbformat_minor": 0
}
