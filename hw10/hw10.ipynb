{
 "cells": [
  {
   "cell_type": "markdown",
   "metadata": {},
   "source": [
    "# Stat 133 Homework 10\n",
    "\n",
    "Xinyang Geng"
   ]
  },
  {
   "cell_type": "code",
   "execution_count": 2,
   "metadata": {
    "collapsed": false
   },
   "outputs": [],
   "source": [
    "library(DataComputing)\n",
    "library(XML)"
   ]
  },
  {
   "cell_type": "markdown",
   "metadata": {},
   "source": [
    "1. We load the file earthquakes.csv into R"
   ]
  },
  {
   "cell_type": "code",
   "execution_count": 3,
   "metadata": {
    "collapsed": false
   },
   "outputs": [
    {
     "data": {
      "text/html": [
       "<table>\n",
       "<thead><tr><th></th><th scope=col>DateTime</th><th scope=col>Latitude</th><th scope=col>Longitude</th><th scope=col>Depth</th><th scope=col>Magnitude</th><th scope=col>MagType</th><th scope=col>NbStations</th><th scope=col>Gap</th><th scope=col>Distance</th><th scope=col>RMS</th><th scope=col>Source</th><th scope=col>EventID</th></tr></thead>\n",
       "<tbody>\n",
       "\t<tr><th scope=row>1</th><td>1968/03/21 21:54:59.94</td><td>37.0378</td><td>-121.7407</td><td>11.86</td><td>4.3</td><td>ML</td><td>29</td><td>133</td><td>6</td><td>0.1</td><td>NCSN</td><td>1001511</td></tr>\n",
       "\t<tr><th scope=row>2</th><td>1968/05/30 08:03:01.06</td><td>38.1722</td><td>-123.2057</td><td>5</td><td>4.2</td><td>ML</td><td>38</td><td>324</td><td>91</td><td>0.3</td><td>NCSN</td><td>1001643</td></tr>\n",
       "\t<tr><th scope=row>3</th><td>1969/09/25 13:21:15.06</td><td>35.8658</td><td>-120.841</td><td>6.15</td><td>4.09</td><td>Md</td><td>8</td><td>223</td><td>34</td><td>0.05</td><td>NCSN</td><td>1003106</td></tr>\n",
       "\t<tr><th scope=row>4</th><td>1969/09/30 03:33:05.84</td><td>36.8468</td><td>-121.5635</td><td>5.49</td><td>4</td><td>Md</td><td>13</td><td>73</td><td>5</td><td>0.09</td><td>NCSN</td><td>1003117</td></tr>\n",
       "\t<tr><th scope=row>5</th><td>1969/10/02 04:56:45.30</td><td>38.4978</td><td>-122.664</td><td>0.22</td><td>5.6</td><td>ML</td><td>38</td><td>104</td><td>52</td><td>0.22</td><td>NCSN</td><td>1003129</td></tr>\n",
       "\t<tr><th scope=row>6</th><td>1969/10/02 06:19:56.39</td><td>38.45</td><td>-122.7535</td><td>5.14</td><td>5.7</td><td>ML</td><td>53</td><td>139</td><td>58</td><td>0.22</td><td>NCSN</td><td>1003132</td></tr>\n",
       "</tbody>\n",
       "</table>\n"
      ],
      "text/latex": [
       "\\begin{tabular}{r|llllllllllll}\n",
       "  & DateTime & Latitude & Longitude & Depth & Magnitude & MagType & NbStations & Gap & Distance & RMS & Source & EventID\\\\\n",
       "\\hline\n",
       "\t1 & 1968/03/21 21:54:59.94 & 37.0378 & -121.7407 & 11.86 & 4.3 & ML & 29 & 133 & 6 & 0.1 & NCSN & 1001511\\\\\n",
       "\t2 & 1968/05/30 08:03:01.06 & 38.1722 & -123.2057 & 5 & 4.2 & ML & 38 & 324 & 91 & 0.3 & NCSN & 1001643\\\\\n",
       "\t3 & 1969/09/25 13:21:15.06 & 35.8658 & -120.841 & 6.15 & 4.09 & Md & 8 & 223 & 34 & 0.05 & NCSN & 1003106\\\\\n",
       "\t4 & 1969/09/30 03:33:05.84 & 36.8468 & -121.5635 & 5.49 & 4 & Md & 13 & 73 & 5 & 0.09 & NCSN & 1003117\\\\\n",
       "\t5 & 1969/10/02 04:56:45.30 & 38.4978 & -122.664 & 0.22 & 5.6 & ML & 38 & 104 & 52 & 0.22 & NCSN & 1003129\\\\\n",
       "\t6 & 1969/10/02 06:19:56.39 & 38.45 & -122.7535 & 5.14 & 5.7 & ML & 53 & 139 & 58 & 0.22 & NCSN & 1003132\\\\\n",
       "\\end{tabular}\n"
      ],
      "text/plain": [
       "                DateTime Latitude Longitude Depth Magnitude MagType NbStations\n",
       "1 1968/03/21 21:54:59.94  37.0378 -121.7407 11.86      4.30      ML         29\n",
       "2 1968/05/30 08:03:01.06  38.1722 -123.2057  5.00      4.20      ML         38\n",
       "3 1969/09/25 13:21:15.06  35.8658 -120.8410  6.15      4.09      Md          8\n",
       "4 1969/09/30 03:33:05.84  36.8468 -121.5635  5.49      4.00      Md         13\n",
       "5 1969/10/02 04:56:45.30  38.4978 -122.6640  0.22      5.60      ML         38\n",
       "6 1969/10/02 06:19:56.39  38.4500 -122.7535  5.14      5.70      ML         53\n",
       "  Gap Distance  RMS Source EventID\n",
       "1 133        6 0.10   NCSN 1001511\n",
       "2 324       91 0.30   NCSN 1001643\n",
       "3 223       34 0.05   NCSN 1003106\n",
       "4  73        5 0.09   NCSN 1003117\n",
       "5 104       52 0.22   NCSN 1003129\n",
       "6 139       58 0.22   NCSN 1003132"
      ]
     },
     "execution_count": 3,
     "metadata": {},
     "output_type": "execute_result"
    }
   ],
   "source": [
    "data = read.csv(file=\"earthquakes.csv\")%>%\n",
    "  filter(Magnitude>=4)\n",
    "long = data$Longitude\n",
    "lat = data$Latitude\n",
    "head(data)"
   ]
  },
  {
   "cell_type": "markdown",
   "metadata": {},
   "source": [
    "2. Create XML document"
   ]
  },
  {
   "cell_type": "code",
   "execution_count": 4,
   "metadata": {
    "collapsed": true
   },
   "outputs": [],
   "source": [
    "Doc = newXMLDoc()\n",
    "Root = newXMLNode(\"kml\",namespaceDefinitions = \"http://www.opengis.net/kml/2.2\", doc = Doc)\n",
    "Docmt = newXMLNode(\"Document\", parent = Root)\n",
    "Name = newXMLNode(\"Name\", \"Earthquakes\", parent = Docmt)\n",
    "Description = newXMLNode(\"Description\", \"4+ Earthquakes, 1966-present\", parent = Docmt)"
   ]
  },
  {
   "cell_type": "markdown",
   "metadata": {},
   "source": [
    "3. Adding nodes and Timestamp"
   ]
  },
  {
   "cell_type": "code",
   "execution_count": 5,
   "metadata": {
    "collapsed": false
   },
   "outputs": [
    {
     "data": {
      "text/html": [
       "'earthquakes6.kml'"
      ],
      "text/latex": [
       "'earthquakes6.kml'"
      ],
      "text/markdown": [
       "'earthquakes6.kml'"
      ],
      "text/plain": [
       "[1] \"earthquakes6.kml\""
      ]
     },
     "execution_count": 5,
     "metadata": {},
     "output_type": "execute_result"
    }
   ],
   "source": [
    "n = nrow(data)\n",
    "Dtime = as.character(data$DateTime)\n",
    "Dtimefix = gsub(\"/\", \"-\", Dtime)\n",
    "time = gsub(\" \",\"T\",Dtimefix)\n",
    "\n",
    "for (i in 1:n)\n",
    "{\n",
    "  M = newXMLNode(\"Placemark\", parent = Docmt)\n",
    "  T = newXMLNode(\"Point\", parent = M)\n",
    "  cood = c(long[i],\",\",lat[i])\n",
    "  newXMLNode(\"coordinates\", cood, parent = T)\n",
    "  S = newXMLNode(\"TimeStamp\",parent=M)\n",
    "  newXMLNode(\"when\", time[i],\"+08:00\", parent=S)\n",
    "}\n",
    "\n",
    "\n",
    "saveXML(Doc, \"earthquakes6.kml\")"
   ]
  }
 ],
 "metadata": {
  "kernelspec": {
   "display_name": "R",
   "language": "R",
   "name": "ir"
  },
  "language_info": {
   "codemirror_mode": "r",
   "file_extension": ".r",
   "mimetype": "text/x-r-source",
   "name": "R",
   "pygments_lexer": "r",
   "version": "3.2.2"
  }
 },
 "nbformat": 4,
 "nbformat_minor": 0
}
